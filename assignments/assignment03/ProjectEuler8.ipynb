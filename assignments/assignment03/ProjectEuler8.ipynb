{
 "cells": [
  {
   "cell_type": "markdown",
   "metadata": {
    "nbgrader": {}
   },
   "source": [
    "# Project Euler: Problem 8"
   ]
  },
  {
   "cell_type": "markdown",
   "metadata": {
    "nbgrader": {}
   },
   "source": [
    "https://projecteuler.net/problem=8\n",
    "\n",
    "The four adjacent digits in the 1000-digit number that have the greatest product are 9 × 9 × 8 × 9 = 5832.\n",
    "\n",
    "(see the number below)\n",
    "\n",
    "Find the thirteen adjacent digits in the 1000-digit number that have the greatest product. What is the value of this product?\n",
    "\n",
    "Use NumPy for this computation"
   ]
  },
  {
   "cell_type": "code",
   "execution_count": 5,
   "metadata": {
    "collapsed": true,
    "nbgrader": {}
   },
   "outputs": [],
   "source": [
    "import numpy as np"
   ]
  },
  {
   "cell_type": "code",
   "execution_count": 30,
   "metadata": {
    "collapsed": false,
    "nbgrader": {}
   },
   "outputs": [],
   "source": [
    "d1000 = \"\"\"73167176531330624919225119674426574742355349194934\n",
    "96983520312774506326239578318016984801869478851843\n",
    "85861560789112949495459501737958331952853208805511\n",
    "12540698747158523863050715693290963295227443043557\n",
    "66896648950445244523161731856403098711121722383113\n",
    "62229893423380308135336276614282806444486645238749\n",
    "30358907296290491560440772390713810515859307960866\n",
    "70172427121883998797908792274921901699720888093776\n",
    "65727333001053367881220235421809751254540594752243\n",
    "52584907711670556013604839586446706324415722155397\n",
    "53697817977846174064955149290862569321978468622482\n",
    "83972241375657056057490261407972968652414535100474\n",
    "82166370484403199890008895243450658541227588666881\n",
    "16427171479924442928230863465674813919123162824586\n",
    "17866458359124566529476545682848912883142607690042\n",
    "24219022671055626321111109370544217506941658960408\n",
    "07198403850962455444362981230987879927244284909188\n",
    "84580156166097919133875499200524063689912560717606\n",
    "05886116467109405077541002256983155200055935729725\n",
    "71636269561882670428252483600823257530420752963450\"\"\""
   ]
  },
  {
   "cell_type": "code",
   "execution_count": 58,
   "metadata": {
    "collapsed": false
   },
   "outputs": [
    {
     "name": "stdout",
     "output_type": "stream",
     "text": [
      "[ 7.  3.  1. ...,  4.  5.  0.]\n"
     ]
    }
   ],
   "source": [
    "g = list(d1000)\n",
    "z=[]\n",
    "for i in range(len(g)):\n",
    "    if g[i] == 1 or 2 or 3 or 4 or 5 or 6 or 7 or 8 or 9 :\n",
    "        z.append(g[i])\n",
    "        \n",
    "\n",
    "\n",
    "d = []\n",
    "for i in range(len(z)):\n",
    "    if z[i] == '1':\n",
    "        d.append(1.0)\n",
    "    elif z[i] == '2':\n",
    "        d.append(2.0)\n",
    "    elif z[i] == '3':\n",
    "        d.append(3.0)\n",
    "    elif z[i] == '4':\n",
    "        d.append(4.0)\n",
    "    elif z[i] == '5':\n",
    "        d.append(5.0)\n",
    "    elif z[i] == '6':\n",
    "        d.append(6.0)\n",
    "    elif z[i] == '7':\n",
    "        d.append(7.0)\n",
    "    elif z[i] == '8':\n",
    "        d.append(8.0)\n",
    "    elif z[i] == '9':\n",
    "        d.append(9.0)\n",
    "    else:\n",
    "        d.append(0.0)\n",
    "\n",
    "x = np.array(d)\n",
    "\n",
    "print(x)"
   ]
  },
  {
   "cell_type": "code",
   "execution_count": 59,
   "metadata": {
    "collapsed": false,
    "deletable": false,
    "nbgrader": {
     "checksum": "6cff4e8e53b15273846c3aecaea84a3d",
     "solution": true
    }
   },
   "outputs": [
    {
     "name": "stdout",
     "output_type": "stream",
     "text": [
      "5377010688.0\n"
     ]
    }
   ],
   "source": [
    "\n",
    "g = list(d1000)\n",
    "z=[]\n",
    "for i in range(len(g)):\n",
    "    if g[i] == 1 or 2 or 3 or 4 or 5 or 6 or 7 or 8 or 9 :\n",
    "        z.append(g[i])\n",
    "        \n",
    "\n",
    "\n",
    "d = []\n",
    "for i in range(len(z)):\n",
    "    if z[i] == '1':\n",
    "        d.append(1.0)\n",
    "    elif z[i] == '2':\n",
    "        d.append(2.0)\n",
    "    elif z[i] == '3':\n",
    "        d.append(3.0)\n",
    "    elif z[i] == '4':\n",
    "        d.append(4.0)\n",
    "    elif z[i] == '5':\n",
    "        d.append(5.0)\n",
    "    elif z[i] == '6':\n",
    "        d.append(6.0)\n",
    "    elif z[i] == '7':\n",
    "        d.append(7.0)\n",
    "    elif z[i] == '8':\n",
    "        d.append(8.0)\n",
    "    elif z[i] == '9':\n",
    "        d.append(9.0)\n",
    "    else:\n",
    "        d.append(0.0)\n",
    "\n",
    "x = np.array(d)\n",
    "\n",
    "products_13digit = []\n",
    "\n",
    "for i in range(len(x)-13):\n",
    "    products_13digit.append(x[i:i + 13].prod())\n",
    "    \n",
    "y = np.array(products_13digit).max()\n",
    "\n",
    "print(y)\n",
    "\n",
    "\"\"\"the printed number y is the answer\"\"\""
   ]
  },
  {
   "cell_type": "code",
   "execution_count": null,
   "metadata": {
    "collapsed": false
   },
   "outputs": [],
   "source": []
  },
  {
   "cell_type": "code",
   "execution_count": null,
   "metadata": {
    "collapsed": true,
    "deletable": false,
    "nbgrader": {
     "checksum": "21332c13eb4f8f18191bd8d47414b7fc",
     "grade": true,
     "grade_id": "projecteuler8",
     "points": 10
    }
   },
   "outputs": [],
   "source": [
    "assert True # leave this for grading"
   ]
  }
 ],
 "metadata": {
  "kernelspec": {
   "display_name": "Python 3",
   "language": "python",
   "name": "python3"
  },
  "language_info": {
   "codemirror_mode": {
    "name": "ipython",
    "version": 3
   },
   "file_extension": ".py",
   "mimetype": "text/x-python",
   "name": "python",
   "nbconvert_exporter": "python",
   "pygments_lexer": "ipython3",
   "version": "3.4.0"
  }
 },
 "nbformat": 4,
 "nbformat_minor": 0
}
