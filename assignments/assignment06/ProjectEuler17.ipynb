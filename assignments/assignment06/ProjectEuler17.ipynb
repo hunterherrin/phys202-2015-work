{
 "cells": [
  {
   "cell_type": "markdown",
   "metadata": {
    "nbgrader": {}
   },
   "source": [
    "# Project Euler: Problem 17"
   ]
  },
  {
   "cell_type": "markdown",
   "metadata": {
    "nbgrader": {}
   },
   "source": [
    "https://projecteuler.net/problem=17\n",
    "\n",
    "If the numbers 1 to 5 are written out in words: one, two, three, four, five, then there are 3 + 3 + 5 + 4 + 4 = 19 letters used in total.\n",
    "\n",
    "If all the numbers from 1 to 1000 (one thousand) inclusive were written out in words, how many letters would be used?\n",
    "\n",
    "\n",
    "NOTE: Do not count spaces or hyphens. For example, 342 (three hundred and forty-two) contains 23 letters and 115 (one hundred and fifteen) contains 20 letters. The use of \"and\" when writing out numbers is in compliance with British usage."
   ]
  },
  {
   "cell_type": "markdown",
   "metadata": {
    "nbgrader": {}
   },
   "source": [
    "First write a `number_to_words(n)` function that takes an integer `n` between 1 and 1000 inclusive and returns a list of words for the number as described above"
   ]
  },
  {
   "cell_type": "code",
   "execution_count": 36,
   "metadata": {
    "collapsed": false
   },
   "outputs": [
    {
     "data": {
      "text/plain": [
       "'five hundred and fifty-four'"
      ]
     },
     "execution_count": 36,
     "metadata": {},
     "output_type": "execute_result"
    }
   ],
   "source": [
    "%matplotlib inline\n",
    "from matplotlib import pyplot as plt\n",
    "import numpy as np\n",
    "number_to_words(554)"
   ]
  },
  {
   "cell_type": "code",
   "execution_count": 107,
   "metadata": {
    "collapsed": false,
    "nbgrader": {
     "checksum": "790b69a83b63d5a31b5fac1451dd3b54",
     "solution": true
    }
   },
   "outputs": [],
   "source": [
    "def number_to_words(n):\n",
    "    \"\"\"Given a number n between 1-1000 inclusive return a list of words for the number.\"\"\"\n",
    "    N=str(n)\n",
    "    x=list(N)\n",
    "    if len(x)==4:\n",
    "        return'one thousand'\n",
    "    if len(x)==3:\n",
    "        if x[0]=='1':\n",
    "            hundred_digit='one hundred'\n",
    "        elif x[0]=='2':\n",
    "            hundred_digit='two hundred' \n",
    "        elif x[0]=='3':\n",
    "            hundred_digit='three hundred'\n",
    "        elif x[0]=='4':\n",
    "            hundred_digit='four hundred'\n",
    "        elif x[0]=='5':\n",
    "            hundred_digit='five hundred'\n",
    "        elif x[0]=='6':\n",
    "            hundred_digit='six hundred'\n",
    "        elif x[0]=='7':\n",
    "            hundred_digit='seven hundred'\n",
    "        elif x[0]=='8':\n",
    "            hundred_digit='eight hundred'\n",
    "        elif x[0]=='9':\n",
    "            hundred_digit='nine hundred'\n",
    "        if x[1]=='0':\n",
    "            tens_digit=' '\n",
    "        elif x[1]=='1':\n",
    "            if x[2]=='0':\n",
    "                return hundred_digit+' ten'\n",
    "            elif x[2]=='1':\n",
    "                return hundred_digit+' eleven'\n",
    "            elif x[2]=='2':\n",
    "                return hundred_digit+' twelve'\n",
    "            elif x[2]=='3':\n",
    "                return hundred_digit+' thirteen'\n",
    "            elif x[2]=='4':\n",
    "                return hundred_digit+' fourteen'\n",
    "            elif x[2]=='5':\n",
    "                return hundred_digit+' fifteen'\n",
    "            elif x[2]=='6':\n",
    "                return hundred_digit+' sixteen'\n",
    "            elif x[2]=='7':\n",
    "                return hundred_digit+' seventeen'\n",
    "            elif x[2]=='8':\n",
    "                return hundred_digit+' eighteen'\n",
    "            elif x[2]=='9':\n",
    "                return hundred_digit+' nineteen'\n",
    "        elif x[1]=='2':\n",
    "            tens_digit=' twenty-' \n",
    "        elif x[1]=='3':\n",
    "            tens_digit=' thirty-'\n",
    "        elif x[1]=='4':\n",
    "            tens_digit=' fourty-'\n",
    "        elif x[1]=='5':\n",
    "            tens_digit=' fifty-'\n",
    "        elif x[1]=='6':\n",
    "            tens_digit=' sixty-'\n",
    "        elif x[1]=='7':\n",
    "            tens_digit=' seventy-'\n",
    "        elif x[1]=='8':\n",
    "            tens_digit=' eighty-'\n",
    "        elif x[1]=='9':\n",
    "            tens_digit=' ninety-'\n",
    "        if x[2]=='0':\n",
    "            return hundred_digit+tens_digit\n",
    "        elif x[2]=='1':\n",
    "            return hundred_digit+' and'+tens_digit+'one'\n",
    "        elif x[2]=='2':\n",
    "            return hundred_digit+' and'+tens_digit+'two'\n",
    "        elif x[2]=='3':\n",
    "            return hundred_digit+' and'+tens_digit+'three'\n",
    "        elif x[2]=='4':\n",
    "            return hundred_digit+' and'+tens_digit+'four'\n",
    "        elif x[2]=='5':\n",
    "            return hundred_digit+' and'+tens_digit+'five'\n",
    "        elif x[2]=='6':\n",
    "            return hundred_digit+' and'+tens_digit+'six'\n",
    "        elif x[2]=='7':\n",
    "            return hundred_digit+' and'+tens_digit+'seven'\n",
    "        elif x[2]=='8':\n",
    "            return hundred_digit+' and'+tens_digit+'eight'\n",
    "        elif x[2]=='9':\n",
    "            return hundred_digit+' and'+tens_digit+'nine'\n",
    "    if len(x)==2:\n",
    "        if x[0]=='1':\n",
    "            if x[1]=='0':\n",
    "                return 'ten'\n",
    "            elif x[1]=='1':\n",
    "                return 'eleven'\n",
    "            elif x[1]=='2':\n",
    "                return 'twelve'\n",
    "            elif x[1]=='3':\n",
    "                return 'thirteen'\n",
    "            elif x[1]=='4':\n",
    "                return 'fourteen'\n",
    "            elif x[1]=='5':\n",
    "                return 'fifteen'\n",
    "            elif x[1]=='6':\n",
    "                return 'sixteen'\n",
    "            elif x[1]=='7':\n",
    "                return 'seventeen'\n",
    "            elif x[1]=='8':\n",
    "                return 'eighteen'\n",
    "            elif x[1]=='9':\n",
    "                return 'nineteen'\n",
    "        elif x[0]=='2':\n",
    "            tens_digit1='twenty-' \n",
    "        elif x[0]=='3':\n",
    "            tens_digit1='thirty-'\n",
    "        elif x[0]=='4':\n",
    "            tens_digit1='fourty-'\n",
    "        elif x[0]=='5':\n",
    "            tens_digit1='fifty-'\n",
    "        elif x[0]=='6':\n",
    "            tens_digit1='sixty-'\n",
    "        elif x[0]=='7':\n",
    "            tens_digit1='seventy-'\n",
    "        elif x[0]=='8':\n",
    "            tens_digit1='eighty-'\n",
    "        elif x[0]=='9':\n",
    "            tens_digit1='ninety-'\n",
    "        if x[1]=='0':\n",
    "            return tens_digit1\n",
    "        elif x[1]=='1':\n",
    "            return tens_digit1+'one'\n",
    "        elif x[1]=='2':\n",
    "            return tens_digit1+'two'\n",
    "        elif x[1]=='3':\n",
    "            return tens_digit1+'three'\n",
    "        elif x[1]=='4':\n",
    "            return tens_digit1+'four'\n",
    "        elif x[1]=='5':\n",
    "            return tens_digit1+'five'\n",
    "        elif x[1]=='6':\n",
    "            return tens_digit1+'six'\n",
    "        elif x[1]=='7':\n",
    "            return tens_digit1+'seven'\n",
    "        elif x[1]=='8':\n",
    "            return tens_digit1+'eight'\n",
    "        elif x[1]=='9':\n",
    "            return tens_digit1+'nine'\n",
    "    if len(x)==1:\n",
    "        if x[0]=='1':\n",
    "            return 'one'\n",
    "        elif x[0]=='2':\n",
    "            return 'two'\n",
    "        elif x[0]=='3':\n",
    "            return 'three'\n",
    "        elif x[0]=='4':\n",
    "            return 'four'\n",
    "        elif x[0]=='5':\n",
    "            return 'five'\n",
    "        elif x[0]=='6':\n",
    "            return 'six'\n",
    "        elif x[0]=='7':\n",
    "            return 'seven'\n",
    "        elif x[0]=='8':\n",
    "            return 'eight'\n",
    "        elif x[0]=='9':\n",
    "            return 'nine'\n",
    " "
   ]
  },
  {
   "cell_type": "markdown",
   "metadata": {
    "nbgrader": {}
   },
   "source": [
    "Now write a set of `assert` tests for your `number_to_words` function that verifies that it is working as expected."
   ]
  },
  {
   "cell_type": "code",
   "execution_count": 108,
   "metadata": {
    "collapsed": false,
    "deletable": false,
    "nbgrader": {
     "checksum": "6cff4e8e53b15273846c3aecaea84a3d",
     "solution": true
    }
   },
   "outputs": [],
   "source": [
    "assert number_to_words(3)=='three'\n",
    "assert number_to_words(2)+number_to_words(4)=='twofour'\n",
    "assert number_to_words(978)=='nine hundred and seventy-eight'"
   ]
  },
  {
   "cell_type": "code",
   "execution_count": 109,
   "metadata": {
    "collapsed": true,
    "deletable": false,
    "nbgrader": {
     "checksum": "2c71c0f9dbe2a57b1ddc17bf544d86ed",
     "grade": true,
     "grade_id": "projecteuler17a",
     "points": 4
    }
   },
   "outputs": [],
   "source": [
    "assert True # use this for grading the number_to_words tests."
   ]
  },
  {
   "cell_type": "markdown",
   "metadata": {
    "nbgrader": {}
   },
   "source": [
    "Now define a `count_letters(n)` that returns the number of letters used to write out the words for all of the the numbers `1` to `n` inclusive."
   ]
  },
  {
   "cell_type": "code",
   "execution_count": 110,
   "metadata": {
    "collapsed": true
   },
   "outputs": [],
   "source": [
    "def filter_fn(x):\n",
    "    if x=='-' or x==' ':\n",
    "        return False\n",
    "    else:\n",
    "        return True"
   ]
  },
  {
   "cell_type": "code",
   "execution_count": null,
   "metadata": {
    "collapsed": true
   },
   "outputs": [],
   "source": []
  },
  {
   "cell_type": "code",
   "execution_count": 111,
   "metadata": {
    "collapsed": false,
    "nbgrader": {
     "checksum": "be228a805b41eda2b30887a53523f76b",
     "solution": true
    }
   },
   "outputs": [],
   "source": [
    "def count_letters(n):\n",
    "    \"\"\"Count the number of letters used to write out the words for 1-n inclusive.\"\"\"\n",
    "    total_letters=0\n",
    "    while n>=1:\n",
    "        x=number_to_words(n)\n",
    "        y=x.replace(' ','')\n",
    "        z=y.replace('-','')\n",
    "        total_letters=total_letters+len(z)\n",
    "        n=n-1\n",
    "    return total_letters\n",
    "        "
   ]
  },
  {
   "cell_type": "markdown",
   "metadata": {
    "nbgrader": {}
   },
   "source": [
    "Now write a set of `assert` tests for your `count_letters` function that verifies that it is working as expected."
   ]
  },
  {
   "cell_type": "code",
   "execution_count": 118,
   "metadata": {
    "collapsed": true,
    "deletable": false,
    "nbgrader": {
     "checksum": "6cff4e8e53b15273846c3aecaea84a3d",
     "solution": true
    }
   },
   "outputs": [],
   "source": [
    "assert count_letters(1)==3\n",
    "assert count_letters(5)==19\n",
    "assert count_letters(1000)==20738\n"
   ]
  },
  {
   "cell_type": "code",
   "execution_count": null,
   "metadata": {
    "collapsed": true,
    "deletable": false,
    "nbgrader": {
     "checksum": "3a06c9610681f0174008f2976e310e0a",
     "grade": true,
     "grade_id": "projecteuler17b",
     "points": 4
    }
   },
   "outputs": [],
   "source": [
    "assert True # use this for grading the count_letters tests."
   ]
  },
  {
   "cell_type": "markdown",
   "metadata": {
    "nbgrader": {}
   },
   "source": [
    "Finally used your `count_letters` function to solve the original question."
   ]
  },
  {
   "cell_type": "code",
   "execution_count": null,
   "metadata": {
    "collapsed": true,
    "deletable": false,
    "nbgrader": {
     "checksum": "6cff4e8e53b15273846c3aecaea84a3d",
     "solution": true
    }
   },
   "outputs": [],
   "source": [
    "# YOUR CODE HERE\n",
    "raise NotImplementedError()"
   ]
  },
  {
   "cell_type": "code",
   "execution_count": null,
   "metadata": {
    "collapsed": true,
    "deletable": false,
    "nbgrader": {
     "checksum": "a136658e13c4f1154caf307a2e852f99",
     "grade": true,
     "grade_id": "projecteuler17c",
     "points": 2
    }
   },
   "outputs": [],
   "source": [
    "assert True # use this for gradig the answer to the original question."
   ]
  }
 ],
 "metadata": {
  "kernelspec": {
   "display_name": "Python 3",
   "language": "python",
   "name": "python3"
  },
  "language_info": {
   "codemirror_mode": {
    "name": "ipython",
    "version": 3
   },
   "file_extension": ".py",
   "mimetype": "text/x-python",
   "name": "python",
   "nbconvert_exporter": "python",
   "pygments_lexer": "ipython3",
   "version": "3.4.0"
  }
 },
 "nbformat": 4,
 "nbformat_minor": 0
}
