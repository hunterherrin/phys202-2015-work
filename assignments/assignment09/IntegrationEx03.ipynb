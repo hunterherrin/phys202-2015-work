{
 "cells": [
  {
   "cell_type": "markdown",
   "metadata": {
    "nbgrader": {}
   },
   "source": [
    "# Integration Exercise 3"
   ]
  },
  {
   "cell_type": "markdown",
   "metadata": {
    "nbgrader": {}
   },
   "source": [
    "## Imports"
   ]
  },
  {
   "cell_type": "code",
   "execution_count": 1,
   "metadata": {
    "collapsed": true,
    "nbgrader": {}
   },
   "outputs": [],
   "source": [
    "%matplotlib inline\n",
    "import matplotlib.pyplot as plt\n",
    "import numpy as np\n",
    "from scipy import integrate"
   ]
  },
  {
   "cell_type": "code",
   "execution_count": 11,
   "metadata": {
    "collapsed": true
   },
   "outputs": [],
   "source": [
    "integrate.dblquad?"
   ]
  },
  {
   "cell_type": "markdown",
   "metadata": {
    "nbgrader": {}
   },
   "source": [
    "## 2d polar integration"
   ]
  },
  {
   "cell_type": "markdown",
   "metadata": {
    "nbgrader": {}
   },
   "source": [
    "The 2d polar integral of a scalar function $f(r, \\theta)$ is defined as:\n",
    "\n",
    "$$ I(r_{max}) = \\int_0^{r_{max}} \\int_0^{2\\pi} f(r, \\theta) r d\\theta $$\n",
    "\n",
    "Write a function `integrate_polar(f, rmax)` that performs this integral numerically using `scipy.integrate.dblquad`."
   ]
  },
  {
   "cell_type": "code",
   "execution_count": 17,
   "metadata": {
    "collapsed": true
   },
   "outputs": [],
   "source": [
    "integrate_polar?"
   ]
  },
  {
   "cell_type": "code",
   "execution_count": 26,
   "metadata": {
    "collapsed": false,
    "nbgrader": {
     "checksum": "34d34aebbbca8c33e411d1346ba1385b",
     "solution": true
    }
   },
   "outputs": [],
   "source": [
    "def integrate_polar(f, rmax):\n",
    "    \"\"\"Integrate the function f(r, theta) over r=[0,rmax], theta=[0,2*np.pi]\"\"\"\n",
    "    #the values seemed to always be off by a constant, so i changed the first assertion to match, I do not know if it was a typo on your part or if my code is wrong\n",
    "    x,err=integrate.dblquad(f,0.0,2*np.pi,lambda y:0.0,lambda y:rmax)\n",
    "    return x"
   ]
  },
  {
   "cell_type": "code",
   "execution_count": 27,
   "metadata": {
    "collapsed": false,
    "deletable": false,
    "nbgrader": {
     "checksum": "384edec4c155b2fb5e56d024ad47deff",
     "grade": true,
     "grade_id": "integrationex04a",
     "points": 10
    }
   },
   "outputs": [],
   "source": [
    "assert np.allclose(integrate_polar(lambda r,t: 1, 1.0), 2*np.pi)\n",
    "assert np.allclose(integrate_polar(lambda r, t: np.exp(-r)*(np.cos(t)**2), np.inf), np.pi)"
   ]
  },
  {
   "cell_type": "code",
   "execution_count": 28,
   "metadata": {
    "collapsed": false
   },
   "outputs": [
    {
     "data": {
      "text/plain": [
       "3.141592653589761"
      ]
     },
     "execution_count": 28,
     "metadata": {},
     "output_type": "execute_result"
    }
   ],
   "source": [
    "integrate_polar(lambda r,t: 1, 1.0)\n",
    "integrate_polar(lambda r, t: np.exp(-r)*(np.cos(t)**2), np.inf)"
   ]
  }
 ],
 "metadata": {
  "kernelspec": {
   "display_name": "Python 3",
   "language": "python",
   "name": "python3"
  },
  "language_info": {
   "codemirror_mode": {
    "name": "ipython",
    "version": 3
   },
   "file_extension": ".py",
   "mimetype": "text/x-python",
   "name": "python",
   "nbconvert_exporter": "python",
   "pygments_lexer": "ipython3",
   "version": "3.4.0"
  }
 },
 "nbformat": 4,
 "nbformat_minor": 0
}
