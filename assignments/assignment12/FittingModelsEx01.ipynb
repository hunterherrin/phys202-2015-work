{
 "cells": [
  {
   "cell_type": "markdown",
   "metadata": {
    "nbgrader": {}
   },
   "source": [
    "# Fitting Models Exercise 1"
   ]
  },
  {
   "cell_type": "markdown",
   "metadata": {
    "nbgrader": {}
   },
   "source": [
    "## Imports"
   ]
  },
  {
   "cell_type": "code",
   "execution_count": 3,
   "metadata": {
    "collapsed": true,
    "nbgrader": {}
   },
   "outputs": [],
   "source": [
    "%matplotlib inline\n",
    "import matplotlib.pyplot as plt\n",
    "import numpy as np\n",
    "import scipy.optimize as opt"
   ]
  },
  {
   "cell_type": "markdown",
   "metadata": {
    "nbgrader": {}
   },
   "source": [
    "## Fitting a quadratic curve"
   ]
  },
  {
   "cell_type": "markdown",
   "metadata": {
    "nbgrader": {}
   },
   "source": [
    "For this problem we are going to work with the following model:\n",
    "\n",
    "$$ y_{model}(x) = a x^2 + b x + c $$\n",
    "\n",
    "The true values of the model parameters are as follows:"
   ]
  },
  {
   "cell_type": "code",
   "execution_count": 4,
   "metadata": {
    "collapsed": true,
    "nbgrader": {}
   },
   "outputs": [],
   "source": [
    "a_true = 0.5\n",
    "b_true = 2.0\n",
    "c_true = -4.0"
   ]
  },
  {
   "cell_type": "markdown",
   "metadata": {
    "nbgrader": {}
   },
   "source": [
    "First, generate a dataset using this model using these parameters and the following characteristics:\n",
    "\n",
    "* For your $x$ data use 30 uniformly spaced points between $[-5,5]$.\n",
    "* Add a noise term to the $y$ value at each point that is drawn from a normal distribution with zero mean and standard deviation 2.0. Make sure you add a different random number to each point (see the `size` argument of `np.random.normal`).\n",
    "\n",
    "After you generate the data, make a plot of the raw data (use points)."
   ]
  },
  {
   "cell_type": "code",
   "execution_count": 15,
   "metadata": {
    "collapsed": false,
    "deletable": false,
    "nbgrader": {
     "checksum": "6cff4e8e53b15273846c3aecaea84a3d",
     "solution": true
    }
   },
   "outputs": [
    {
     "data": {
      "text/plain": [
       "<matplotlib.text.Text at 0x7f087009dac8>"
      ]
     },
     "execution_count": 15,
     "metadata": {},
     "output_type": "execute_result"
    },
    {
     "data": {
      "image/png": "[encoded data removed]",
      "text/plain": [
       "<matplotlib.figure.Figure at 0x7f086fb24668>"
      ]
     },
     "metadata": {},
     "output_type": "display_data"
    }
   ],
   "source": [
    "t=np.linspace(-5,5,30)\n",
    "def quadr(a,b,c):\n",
    "    x=np.linspace(-5,5,30)\n",
    "    \n",
    "    return a*x**2+b*x+c\n",
    "y=quadr(0.5,2.0,-4.0)+np.random.normal(0,2,30)\n",
    "plt.scatter(t,y)\n",
    "plt.tight_layout()\n",
    "plt.xlabel('$x$')\n",
    "plt.ylabel('$y(x)$')\n",
    "plt.title('$y(x)$ vs $x$')"
   ]
  },
  {
   "cell_type": "code",
   "execution_count": null,
   "metadata": {
    "collapsed": true,
    "deletable": false,
    "nbgrader": {
     "checksum": "3acfeb5975cc4a690bc60e56103ce367",
     "grade": true,
     "grade_id": "fittingmodelsex01a",
     "points": 5
    }
   },
   "outputs": [],
   "source": [
    "assert True # leave this cell for grading the raw data generation and plot"
   ]
  },
  {
   "cell_type": "markdown",
   "metadata": {
    "nbgrader": {}
   },
   "source": [
    "Now fit the model to the dataset to recover estimates for the model's parameters:\n",
    "\n",
    "* Print out the estimates and uncertainties of each parameter.\n",
    "* Plot the raw data and best fit of the model."
   ]
  },
  {
   "cell_type": "code",
   "execution_count": null,
   "metadata": {
    "collapsed": false,
    "deletable": false,
    "nbgrader": {
     "checksum": "6cff4e8e53b15273846c3aecaea84a3d",
     "solution": true
    }
   },
   "outputs": [],
   "source": [
    "# YOUR CODE HERE\n",
    "raise NotImplementedError()"
   ]
  },
  {
   "cell_type": "code",
   "execution_count": null,
   "metadata": {
    "collapsed": true,
    "deletable": false,
    "nbgrader": {
     "checksum": "5c7b35cc43322f076fb2acf1cddfc759",
     "grade": true,
     "grade_id": "fittingmodelsex01b",
     "points": 5
    }
   },
   "outputs": [],
   "source": [
    "assert True # leave this cell for grading the fit; should include a plot and printout of the parameters+errors"
   ]
  }
 ],
 "metadata": {
  "kernelspec": {
   "display_name": "Python 3",
   "language": "python",
   "name": "python3"
  },
  "language_info": {
   "codemirror_mode": {
    "name": "ipython",
    "version": 3
   },
   "file_extension": ".py",
   "mimetype": "text/x-python",
   "name": "python",
   "nbconvert_exporter": "python",
   "pygments_lexer": "ipython3",
   "version": "3.4.0"
  }
 },
 "nbformat": 4,
 "nbformat_minor": 0
}
